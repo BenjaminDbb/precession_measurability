{
 "cells": [
  {
   "cell_type": "markdown",
   "metadata": {},
   "source": [
    "## Fisher Information Matrix\n",
    "\n",
    "The Fisher information matrix can be defined as $F_{ij}[h] = (h_{i}, h_{j})$ where $h_{i}$ is the partial derivative of $h(f)$ with respect to the i-th parameter $\\theta_{i}$ and \"( , )\" denotes an inner product weighted by the expected PSD of detector noise, such as:\n",
    "\n",
    "$$\n",
    "(h, g) = 4 \\cdot Re[\\int_{0}^{\\infty} \\frac{h(f)^{*}g(f)}  {S_{n}(f)} df].\n",
    "$$\n",
    "\n",
    "The Fisher matrix can also be represented as \n",
    "\n",
    "$$\n",
    "F_{ij} = \\langle \\partial_{i} \\log p(s | \\theta_{0}), \\partial_{j} \\log p(s | \\theta_{0}) \\rangle_{n},\n",
    "$$\n",
    "which, under certain conditions, is equivalent to\n",
    "\n",
    "$$\n",
    "F_{ij} = -\\langle \\partial_{i} \\partial_{j} \\log p(s | \\theta_{0}) \\rangle_{n}.\n",
    "$$\n",
    "\n",
    "We represent an average over the probability distribution of noise as \"$\\langle \\cdot \\rangle_{n}$\", and\n",
    "\n",
    "$$\n",
    "\\langle u(s), v(s)\\rangle_{n} = \\int u(s) v(s) p(s | \\theta_{0}) ds.\n",
    "$$\n",
    "\n",
    "For a posterior $p(\\theta_{0} | s)$ sufficiently close to the true source parameter $\\theta_{0}$, under the assumption of Gaussian noise and in the high SNR limit, the inverse of the Fisher matrix can be interpreted as the covariance matrix for the posterior probability distribution.\n",
    "\n",
    "\n",
    "Adapted (a.k.a. occasionally taken word-for-word) from https://arxiv.org/pdf/gr-qc/0703086v2.pdf"
   ]
  },
  {
   "cell_type": "code",
   "execution_count": 8,
   "metadata": {
    "collapsed": true
   },
   "outputs": [],
   "source": [
    "from __future__ import division\n",
    "\n",
    "import numpy\n",
    "import lal\n",
    "import lalsimulation\n",
    "from lalinference.rapid_pe import lalsimutils\n",
    "import matplotlib.pyplot as plt\n"
   ]
  },
  {
   "cell_type": "code",
   "execution_count": 3,
   "metadata": {
    "collapsed": true
   },
   "outputs": [],
   "source": [
    "def generate_waveform(m_chirp, eta):\n",
    "    \"\"\"\n",
    "    Generate a generic TaylorF2 waveform given a chirp mass and symmetric mass ratio\n",
    "    using a TaylorF2 appriximation for binaries with zero spin.\n",
    "    \n",
    "    m_chirp -- chirp mass \n",
    "    \n",
    "    eta -- symmetric mass ratio\n",
    "    \n",
    "    Returns:\n",
    "    h1 -- magnitude of h_plus and h_cross in the frequency domain\n",
    "    \"\"\"\n",
    "    \n",
    "    # Generate a waveform following the same procedure in waveform_overlap.ipynb\n",
    "    m1, m2 = lalsimutils.m1m2(m_chirp, eta)\n",
    "    s1x, s1y, s1z = 0.0, 0.0, 0.0\n",
    "    s2x, s2y, s2z = 0.0, 0.0, 0.0\n",
    "    coa_phase, polarization_angle = 0.0, 0.0\n",
    "    ra, dec = 0.0, 0.0\n",
    "    dist, incl = 1e6 * lal.PC_SI, 0.0\n",
    "    approx1 = lalsimulation.TaylorF2\n",
    "\n",
    "    hpf, hxf = lalsimulation.SimInspiralFD(coa_phase, delta_f,\n",
    "                                m1, m2,\n",
    "                                s1x, s1y, s1z,\n",
    "                                s2x, s2y, s2z,\n",
    "                                flow, fmax, flow,\n",
    "                                dist, 0.0, incl,\n",
    "                                0.0, 0.0, None, None,\n",
    "                                -1, 0, approx1)\n",
    "\n",
    "    # For convenience, we'll reuse hpf and redefine to be h1\n",
    "    hpf.data.data += hxf.data.data\n",
    "    h1 = hpf\n",
    "    return h1"
   ]
  },
  {
   "cell_type": "code",
   "execution_count": 15,
   "metadata": {
    "collapsed": false
   },
   "outputs": [],
   "source": [
    "# Assign necessary variables and define the overlap object\n",
    "\n",
    "# Bounds of the integral -- we consider anything outside of these bounds to be effectively zero because of the\n",
    "# waveform terminating or the detector sensitivity being too small\n",
    "flow = 30\n",
    "fmax = fnyq = 2048\n",
    "\n",
    "# We're actually doing a numerical integral so df -> \\delta f\n",
    "delta_f = 0.125\n",
    "\n",
    "# Define the overlap object\n",
    "olap = lalsimutils.Overlap(flow, fmax, fnyq, delta_f)\n",
    "\n"
   ]
  },
  {
   "cell_type": "code",
   "execution_count": 17,
   "metadata": {
    "collapsed": false
   },
   "outputs": [
    {
     "data": {
      "text/plain": [
       "array([  0.00000000e+00 +0.00000000e+00j,\n",
       "         0.00000000e+00 +0.00000000e+00j,\n",
       "         0.00000000e+00 +0.00000000e+00j, ...,\n",
       "        -8.40053623e-48 -6.05767720e-48j,\n",
       "         1.03506271e-47 +3.37198963e-49j,   0.00000000e+00 +0.00000000e+00j])"
      ]
     },
     "execution_count": 17,
     "metadata": {},
     "output_type": "execute_result"
    }
   ],
   "source": [
    "# Numerically approximate the partial derivative of h(t) with respect to M_chirp at each point\n",
    "\n",
    "h1 = generate_waveform(20, 0.2)\n",
    "h1.data.data\n",
    "\n",
    "# Make some plots\n",
    "\n",
    "# Calculate the inner product or something"
   ]
  },
  {
   "cell_type": "code",
   "execution_count": 35,
   "metadata": {
    "collapsed": false
   },
   "outputs": [],
   "source": [
    "# Pick a constant eta\n",
    "eta = 0.2\n",
    "\n",
    "# Iterate over a set of different chirp masses and calculate h(f) for each chirp mass\n",
    "delta_mc = 1\n",
    "mcs = numpy.arange(1, 40, delta_mc)\n",
    "waveforms = []\n",
    "waveform_data = []\n",
    "for mc in mcs:\n",
    "    waveforms.append(generate_waveform(mc, eta))\n",
    "waveforms = numpy.asarray(waveforms)\n"
   ]
  },
  {
   "cell_type": "markdown",
   "metadata": {},
   "source": [
    "## Calculate $\\frac{\\partial h(f)}{\\partial M_{c}}$\n",
    "\n",
    "I have now generated an h(f) for several different values of $M_{c}$.\n",
    "\n",
    "For each h(f), I will calculate $\\frac{\\partial h(f)}{\\partial M_{c}}$ numerically, at each value of $f$, by the following equation\n",
    "\n",
    "$$\n",
    "\\frac{\\partial h(f)_{i, j}}{\\partial M_{c}} = \\frac{h(M_{i+1}, f_{j}) - h(M_{i}, f_{j})}{\\Delta M_{c}},\n",
    "$$\n",
    "for each chirp mass i, at each frequency j."
   ]
  },
  {
   "cell_type": "code",
   "execution_count": 50,
   "metadata": {
    "collapsed": false
   },
   "outputs": [],
   "source": [
    "waveform_derivs = []\n",
    "# Iterate over each M_chirp and get the waveform (h(f)) at each M_chirp\n",
    "for waveform_index in numpy.arange(len(waveforms) - 1):\n",
    "    waveform_deriv = []\n",
    "    waveform = waveforms[waveform_index].data.data\n",
    "    \n",
    "    # For a given h(f) iterate over each frequency value\n",
    "    for freq_index, freq in enumerate(waveform):\n",
    "        # Find the h(f_index) for the next chirp mass value\n",
    "        next_waveform = waveforms[waveform_index + 1].data.data\n",
    "        \n",
    "        #Calculate derivative\n",
    "        waveform_deriv.append((next_waveform[freq_index] - waveform[freq_index]) / delta_mc)\n",
    "    waveform_derivs.append(numpy.asarray(waveform_deriv))\n",
    "waveform_derivs = numpy.asarray(waveform_derivs)\n",
    "\n",
    "#waveform_derivs\n",
    "\n",
    "        \n",
    "        "
   ]
  },
  {
   "cell_type": "code",
   "execution_count": 49,
   "metadata": {
    "collapsed": false
   },
   "outputs": [
    {
     "data": {
      "image/png": "[encoded data removed]",
      "text/plain": [
       "<matplotlib.figure.Figure at 0x10fc5c2d0>"
      ]
     },
     "metadata": {},
     "output_type": "display_data"
    },
    {
     "data": {
      "image/png": "[encoded data removed]",
      "text/plain": [
       "<matplotlib.figure.Figure at 0x11074b550>"
      ]
     },
     "metadata": {},
     "output_type": "display_data"
    },
    {
     "data": {
      "image/png": "[encoded data removed]",
      "text/plain": [
       "<matplotlib.figure.Figure at 0x10f9c7550>"
      ]
     },
     "metadata": {},
     "output_type": "display_data"
    },
    {
     "data": {
      "image/png": "[encoded data removed]",
      "text/plain": [
       "<matplotlib.figure.Figure at 0x10fa228d0>"
      ]
     },
     "metadata": {},
     "output_type": "display_data"
    }
   ],
   "source": [
    "# Plot some stuff\n",
    "\n",
    "plt.figure(1)\n",
    "plt.plot(waveforms[0].data.data, 'b')\n",
    "plt.title('h(m1, f) for first chirp mass')\n",
    "\n",
    "plt.figure(2)\n",
    "plt.plot(waveforms[1].data.data, 'y')\n",
    "plt.title('h(m2, f) for second chirp mass')\n",
    "\n",
    "plt.figure(3)\n",
    "plt.plot(waveform_derivs[0], 'r')\n",
    "plt.title('Partial of first h(m1, f) with respect to M_c')\n",
    "\n",
    "plt.figure(4)\n",
    "plt.plot(waveform_derivs[1], 'g')\n",
    "plt.title('Partial of first h(m2, f) with respect to M_c')\n",
    "plt.show()"
   ]
  },
  {
   "cell_type": "code",
   "execution_count": null,
   "metadata": {
    "collapsed": true
   },
   "outputs": [],
   "source": []
  }
 ],
 "metadata": {
  "kernelspec": {
   "display_name": "Python 2",
   "language": "python",
   "name": "python2"
  },
  "language_info": {
   "codemirror_mode": {
    "name": "ipython",
    "version": 2
   },
   "file_extension": ".py",
   "mimetype": "text/x-python",
   "name": "python",
   "nbconvert_exporter": "python",
   "pygments_lexer": "ipython2",
   "version": "2.7.12"
  }
 },
 "nbformat": 4,
 "nbformat_minor": 1
}
