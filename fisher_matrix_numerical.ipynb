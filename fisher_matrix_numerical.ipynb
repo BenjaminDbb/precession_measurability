{
 "cells": [
  {
   "cell_type": "markdown",
   "metadata": {},
   "source": [
    "## Fisher Matrix\n",
    "\n",
    "Use a numerical approximation to calculate the Fisher Matrix given a redshift, chirp mass, and eta value."
   ]
  },
  {
   "cell_type": "code",
   "execution_count": 9,
   "metadata": {
    "collapsed": true
   },
   "outputs": [],
   "source": [
    "from __future__ import division\n",
    "\n",
    "import numpy as np\n",
    "\n",
    "import sys\n",
    "sys.path.append('/opt/local/Library/Frameworks/Python.framework/Versions/2.7/lib/python2.7/site-packages/')\n",
    "import lal\n",
    "import lalsimulation\n",
    "from lalinference.rapid_pe import lalsimutils\n",
    "import matplotlib.pyplot as plt\n",
    "from scipy import interpolate\n",
    "from numpy import pi\n",
    "from scipy import constants\n",
    "import astropy\n",
    "from astropy import cosmology\n"
   ]
  },
  {
   "cell_type": "code",
   "execution_count": 144,
   "metadata": {
    "collapsed": true
   },
   "outputs": [],
   "source": [
    "def generate_waveform(m_chirp, eta, redshift, delta_f, flow, fmax, \n",
    "                      approx=lalsimulation.IMRPhenomPv2, both=True):\n",
    "    \n",
    "    \"\"\"\n",
    "    Generate a waveform given a chirp mass and symmetric mass ratio\n",
    "    for binaries with zero spin.\n",
    "    \n",
    "    m_chirp -- chirp mass in solar masses\n",
    "    \n",
    "    eta -- float symmetric mass ratio\n",
    "    \n",
    "    redshift -- float redshift value\n",
    "    \n",
    "    delta_f -- frequency step size in Hz\n",
    "    \n",
    "    flow -- minimum frequency in Hz\n",
    "    \n",
    "    fmax -- maximum frequency in Hz\n",
    "    \n",
    "    approx -- waveform approximant (i.e. lalsimulation.IMRPhenomPv2)\n",
    "    \n",
    "    both -- Boolean dictating the summation of h_plus and h_cross\n",
    "    \n",
    "    Returns:\n",
    "    h1 -- magnitude of h_plus and h_cross in the frequency domain\n",
    "    \"\"\"\n",
    "    \n",
    "    # Generate a waveform following the same procedure in waveform_overlap.ipynb\n",
    "    m1, m2 = lalsimutils.m1m2(m_chirp, eta)\n",
    "    m1 *= lal.MSUN_SI\n",
    "    m2 *= lal.MSUN_SI\n",
    "    s1x, s1y, s1z = 0.0, 0.0, 0.0\n",
    "    s2x, s2y, s2z = 0.0, 0.0, 0.0\n",
    "    coa_phase, polarization_angle = 0.0, 0.0\n",
    "    ra, dec = 0.0, 0.0\n",
    "    dist = cosmology.Planck15.comoving_distance(redshift).value * lal.PC_SI * 1e6\n",
    "    incl = 0.0\n",
    "\n",
    "    hpf, hxf = lalsimulation.SimInspiralFD(coa_phase, delta_f,\n",
    "                                m1, m2,\n",
    "                                s1x, s1y, s1z,\n",
    "                                s2x, s2y, s2z,\n",
    "                                flow, fmax, flow,\n",
    "                                dist, redshift, incl,\n",
    "                                0.0, 0.0, None, None,\n",
    "                                0, -1, approx)\n",
    "   \n",
    "    # For convenience, we'll reuse hpf and redefine to be h1\n",
    "    if both:\n",
    "        hpf.data.data += hxf.data.data\n",
    "        \n",
    "    h1 = hpf\n",
    "    return h1.data.data"
   ]
  },
  {
   "cell_type": "code",
   "execution_count": 158,
   "metadata": {
    "collapsed": true
   },
   "outputs": [],
   "source": [
    "def deriv_chirp_mass(m_chirp, eta, redshift, df, flow, fhigh):\n",
    "    \n",
    "    \"\"\"\n",
    "    Find the partial derivative of h(f) with respect to chirp mass.\n",
    "    \n",
    "    m_chirp -- chirp mass in solar masses\n",
    "    \n",
    "    eta -- symmetric mass ratio\n",
    "    \n",
    "    redshift -- redshift value\n",
    "    \n",
    "    df -- frequency step size in Hz\n",
    "    \n",
    "    flow -- minimum frequency in Hz\n",
    "    \n",
    "    fhigh -- maximum frequency in Hz\n",
    "    \n",
    "    Returns:\n",
    "    Array of partial derivative of h(f) with respect to chirp mass for various frequencies\n",
    "    \"\"\"\n",
    "    \n",
    "    derivs = []\n",
    "    \n",
    "    # Calculate the waveform h(f) at this given parameter set\n",
    "    waveform_orig = generate_waveform(m_chirp, eta, redshift, df, flow, fhigh)\n",
    "    \n",
    "    # Find the h(f) for a chirp mass very close to the original chirp mass\n",
    "    delta_mc = 0.001  # Solar Masses\n",
    "    waveform_changed = generate_waveform(m_chirp + delta_mc, eta, redshift, df, flow, fhigh)\n",
    "    \n",
    "    # Clip off h(f) values corresponding to frequencies before flow -- !!! CHECK THIS\n",
    "    flow_index = int(flow/df)\n",
    "    waveform_orig = waveform_orig[flow_index:]\n",
    "    waveform_changed = waveform_changed[flow_index:]\n",
    "    # I'm concerned that I'm actually cutting off high values, not low values\n",
    "   \n",
    "    # Calculate the derivative for each frequency value\n",
    "    for index, value in enumerate(waveform_orig):\n",
    "        derivs.append((waveform_changed[index] - value) / delta_mc) # !!! - CHECK THIS: is the division ok?\n",
    "    \n",
    "    return np.asarray(derivs)\n",
    "\n",
    "\n",
    "\n",
    "def deriv_eta(m_chirp, eta, redshift, df, flow, fhigh):\n",
    "    \n",
    "    \"\"\"\n",
    "    Find the partial derivative of h(f) with respect to eta.\n",
    "    \n",
    "    m_chirp -- chirp mass in solar masses\n",
    "    \n",
    "    eta -- symmetric mass ratio\n",
    "    \n",
    "    redshift -- redshift value\n",
    "    \n",
    "    df -- frequency step size in Hz\n",
    "    \n",
    "    flow -- minimum frequency in Hz\n",
    "    \n",
    "    fhigh -- maximum frequency in Hz\n",
    "    \n",
    "    Returns:\n",
    "    Array of partial derivative of h(f) with respect to eta for various frequencies\n",
    "    \"\"\"\n",
    "    \n",
    "    derivs = []\n",
    "    \n",
    "    # Calculate the waveform h(f) at this given parameter set\n",
    "    waveform_orig = generate_waveform(m_chirp, eta, redshift, df, flow, fhigh)\n",
    "    \n",
    "    # Find the h(f) for a eta very close to the original eta\n",
    "    delta_eta = 0.001  # Solar Masses\n",
    "    waveform_changed = generate_waveform(m_chirp, eta + delta_eta, redshift, df, flow, fhigh)\n",
    "    \n",
    "    # Clip off h(f) values corresponding to frequencies before flow -- !!! CHECK THIS\n",
    "    flow_index = int(flow/df)\n",
    "    waveform_orig = waveform_orig[flow_index:]\n",
    "    waveform_changed = waveform_changed[flow_index:]\n",
    "    # I'm concerned that I'm actually cutting off high values, not low values\n",
    "   \n",
    "    # Calculate the derivative for each frequency value\n",
    "    for index, value in enumerate(waveform_orig):\n",
    "        derivs.append((waveform_changed[index] - value) )#/ delta_eta) # !!! - CHECK THIS: is the division ok?\n",
    "    \n",
    "    return np.asarray(derivs)\n",
    "    \n",
    "    "
   ]
  },
  {
   "cell_type": "code",
   "execution_count": 159,
   "metadata": {
    "collapsed": false
   },
   "outputs": [],
   "source": [
    "def find_fisher_matrix(m_chirp, eta, redshift, df):\n",
    "    \n",
    "    \"\"\"\n",
    "    Calculate a Fisher Matrix given a set of masses, redshifts, and frequency values.\n",
    "    \n",
    "    We assume a minimum frequency value of 30 Hz and a maximum of 2048 Hz.\n",
    "    \n",
    "    m_chirp -- chirp mass in solar mass\n",
    "    \n",
    "    eta -- symmetric mass ratio\n",
    "    \n",
    "    redshift -- redshift value\n",
    "    \n",
    "    df -- spacing between discretely sampled frequency values\n",
    "    \n",
    "    Returns:\n",
    "    FM -- 2-by-2 matrix for fisher information matrix using chirp mass and eta derivatives\n",
    "    \n",
    "    \"\"\"\n",
    "    \n",
    "    # Set frequency range\n",
    "    flow = 30  # Hz\n",
    "    fhigh = 2048  # Hz\n",
    "    freqs = np.arange(flow, fhigh + df, df)\n",
    "    \n",
    "    # Find PSD at given frequency values\n",
    "    psd = map(lalsimulation.SimNoisePSDaLIGOZeroDetHighPower, freqs)\n",
    "    \n",
    "    # Calculate the partial of h(f) with respect to chirp mass\n",
    "    dMc = deriv_chirp_mass(m_chirp, eta, redshift, df, flow, fhigh)\n",
    "    \n",
    "    # Calculate the partial of h(f) with respect to eta\n",
    "    dEta = deriv_eta(m_chirp, eta, redshift, df, flow, fhigh)\n",
    "\n",
    "    # Find elements of the Fisher matrix\n",
    "    v1 = 4*np.real(np.sum(dMc*np.conjugate(dMc) / psd * df))\n",
    "    v2 = 4*np.real(np.sum(dMc*np.conjugate(dEta) / psd * df))\n",
    "    v3 = 4*np.real(np.sum(dEta*np.conjugate(dMc) / psd * df))\n",
    "    v4 = 4*np.real(np.sum(dEta*np.conjugate(dEta) / psd * df))\n",
    "    \n",
    "    # construct Fisher matrix\n",
    "    #FM = np.matrix([[v1,v2], [v3,v4]])\n",
    "    FM = v1\n",
    "    \n",
    "    return FM\n"
   ]
  },
  {
   "cell_type": "code",
   "execution_count": 167,
   "metadata": {
    "collapsed": false
   },
   "outputs": [
    {
     "name": "stdout",
     "output_type": "stream",
     "text": [
      " 1D Fisher Matrix: 1.64154676036e+12\n",
      "Standard Deviation: 7.80500832849e-07\n"
     ]
    }
   ],
   "source": [
    "FM = find_fisher_matrix(2., 0.24, 0.001, 1./32)\n",
    "print '1D Fisher Matrix:', FM\n",
    "print 'Standard Deviation:', np.sqrt(1/FM)"
   ]
  },
  {
   "cell_type": "code",
   "execution_count": 174,
   "metadata": {
    "collapsed": false
   },
   "outputs": [],
   "source": [
    "chirp_masses = np.linspace(1,30,31)\n",
    "fisher = []\n",
    "stdev = []\n",
    "for chirp_mass in chirp_masses:\n",
    "    FM = find_fisher_matrix(chirp_mass, 0.2, 0.2, 1./32)\n",
    "    fisher.append(FM)\n",
    "    stdev.append(np.sqrt(1/FM))\n"
   ]
  },
  {
   "cell_type": "code",
   "execution_count": 172,
   "metadata": {
    "collapsed": false
   },
   "outputs": [
    {
     "data": {
      "image/png": "[encoded data removed]",
      "text/plain": [
       "<matplotlib.figure.Figure at 0x119e4e3d0>"
      ]
     },
     "metadata": {},
     "output_type": "display_data"
    }
   ],
   "source": [
    "plt.figure(1)\n",
    "plt.scatter(chirp_masses, np.asarray(fisher))\n",
    "plt.xlabel('Chirp Mass')\n",
    "plt.ylabel('Fisher Matrix')\n",
    "plt.show()"
   ]
  },
  {
   "cell_type": "code",
   "execution_count": 173,
   "metadata": {
    "collapsed": false
   },
   "outputs": [
    {
     "data": {
      "image/png": "[encoded data removed]",
      "text/plain": [
       "<matplotlib.figure.Figure at 0x118fe26d0>"
      ]
     },
     "metadata": {},
     "output_type": "display_data"
    }
   ],
   "source": [
    "plt.figure(1)\n",
    "plt.scatter(chirp_masses, np.asarray(stdev))\n",
    "plt.xlabel('Chirp Mass')\n",
    "plt.ylabel('Standard Deviation')\n",
    "plt.show()"
   ]
  },
  {
   "cell_type": "code",
   "execution_count": null,
   "metadata": {
    "collapsed": true
   },
   "outputs": [],
   "source": []
  }
 ],
 "metadata": {
  "kernelspec": {
   "display_name": "Python 2",
   "language": "python",
   "name": "python2"
  },
  "language_info": {
   "codemirror_mode": {
    "name": "ipython",
    "version": 2
   },
   "file_extension": ".py",
   "mimetype": "text/x-python",
   "name": "python",
   "nbconvert_exporter": "python",
   "pygments_lexer": "ipython2",
   "version": "2.7.13"
  }
 },
 "nbformat": 4,
 "nbformat_minor": 2
}
